{
 "cells": [
  {
   "cell_type": "code",
   "execution_count": 1,
   "metadata": {},
   "outputs": [
    {
     "name": "stdout",
     "output_type": "stream",
     "text": [
      "env: KERAS_BACKEND=tensorflow\n"
     ]
    },
    {
     "name": "stderr",
     "output_type": "stream",
     "text": [
      "C:\\Program Files\\Anaconda3\\lib\\site-packages\\h5py\\__init__.py:34: FutureWarning: Conversion of the second argument of issubdtype from `float` to `np.floating` is deprecated. In future, it will be treated as `np.float64 == np.dtype(float).type`.\n",
      "  from ._conv import register_converters as _register_converters\n",
      "Using TensorFlow backend.\n"
     ]
    }
   ],
   "source": [
    "%matplotlib inline\n",
    "%env KERAS_BACKEND = tensorflow\n",
    "\n",
    "import numpy as np\n",
    "import matplotlib.pyplot as plt\n",
    "\n",
    "from keras.models import Sequential\n",
    "from keras.layers import Dense, Activation, Dropout, Conv2D, MaxPool2D, LeakyReLU, Flatten, AveragePooling2D\n",
    "from keras.optimizers import SGD\n",
    "from keras.datasets import mnist\n",
    "from keras.utils import np_utils\n",
    "from keras.optimizers import Adam"
   ]
  },
  {
   "cell_type": "code",
   "execution_count": 6,
   "metadata": {},
   "outputs": [],
   "source": [
    "(x_train, y_train), (x_test, y_test) = mnist.load_data()\n",
    "\n",
    "x_train = x_train.reshape(x_train.shape[0], 28, 28, 1)\n",
    "x_test = x_test.reshape(x_test.shape[0], 28, 28, 1)\n",
    "\n",
    "y_train = np_utils.to_categorical(y_train,10)\n",
    "y_test = np_utils.to_categorical(y_test,10)\n",
    "\n",
    "x_train = (x_train - x_train.min())/(x_train.max() - x_train.min())\n",
    "x_test = (x_test - x_test.min())/(x_test.max() - x_test.min())\n",
    "\n",
    "model = Sequential()"
   ]
  },
  {
   "cell_type": "code",
   "execution_count": 7,
   "metadata": {},
   "outputs": [],
   "source": [
    "model.add(Conv2D(4,(5,5),padding='same',input_shape=(28,28,1)))\n",
    "model.add(Activation('selu'))\n",
    "model.add(MaxPool2D(pool_size=(2,2)))\n",
    "\n",
    "model.add(Conv2D(8,(5,5),padding='same'))\n",
    "model.add(Activation('selu'))\n",
    "model.add(MaxPool2D(pool_size=(2,2)))\n",
    "\n",
    "model.add(Conv2D(16,(5,5),padding='same'))\n",
    "model.add(Activation('sigmoid'))\n",
    "model.add(MaxPool2D(pool_size=(2,2)))\n",
    "\n",
    "model.add(Flatten())\n",
    "model.add(Dense(20))\n",
    "model.add(Activation('relu'))\n",
    "\n",
    "model.add(Dense(10))\n",
    "model.add(Activation('softmax'))"
   ]
  },
  {
   "cell_type": "code",
   "execution_count": 8,
   "metadata": {},
   "outputs": [
    {
     "name": "stdout",
     "output_type": "stream",
     "text": [
      "WARNING:tensorflow:From C:\\Program Files\\Anaconda3\\lib\\site-packages\\tensorflow\\python\\ops\\math_ops.py:3066: to_int32 (from tensorflow.python.ops.math_ops) is deprecated and will be removed in a future version.\n",
      "Instructions for updating:\n",
      "Use tf.cast instead.\n",
      "Epoch 1/30\n",
      "60000/60000 [==============================] - 69s 1ms/step - loss: 0.1521 - acc: 0.9487: 3s - loss: 0.1574\n",
      "Epoch 2/30\n",
      "60000/60000 [==============================] - 69s 1ms/step - loss: 0.0281 - acc: 0.9909\n",
      "Epoch 3/30\n",
      "60000/60000 [==============================] - 58s 975us/step - loss: 0.0190 - acc: 0.9937\n",
      "Epoch 4/30\n",
      "60000/60000 [==============================] - 68s 1ms/step - loss: 0.0152 - acc: 0.9950\n",
      "Epoch 5/30\n",
      "60000/60000 [==============================] - 63s 1ms/step - loss: 0.0128 - acc: 0.9958\n",
      "Epoch 6/30\n",
      "60000/60000 [==============================] - 59s 975us/step - loss: 0.0115 - acc: 0.9962\n",
      "Epoch 7/30\n",
      "60000/60000 [==============================] - 59s 976us/step - loss: 0.0100 - acc: 0.9967\n",
      "Epoch 8/30\n",
      "60000/60000 [==============================] - 58s 969us/step - loss: 0.0090 - acc: 0.9971\n",
      "Epoch 9/30\n",
      "60000/60000 [==============================] - 58s 959us/step - loss: 0.0083 - acc: 0.99733s - loss: 0\n",
      "Epoch 10/30\n",
      "60000/60000 [==============================] - 58s 968us/step - loss: 0.0075 - acc: 0.9976\n",
      "Epoch 11/30\n",
      "60000/60000 [==============================] - 58s 960us/step - loss: 0.0071 - acc: 0.9977\n",
      "Epoch 12/30\n",
      "60000/60000 [==============================] - 58s 971us/step - loss: 0.0065 - acc: 0.9979\n",
      "Epoch 13/30\n",
      "60000/60000 [==============================] - 58s 962us/step - loss: 0.0059 - acc: 0.9981\n",
      "Epoch 14/30\n",
      "60000/60000 [==============================] - 58s 968us/step - loss: 0.0057 - acc: 0.9982\n",
      "Epoch 15/30\n",
      "60000/60000 [==============================] - 59s 989us/step - loss: 0.0053 - acc: 0.9984\n",
      "Epoch 16/30\n",
      "60000/60000 [==============================] - 59s 979us/step - loss: 0.0050 - acc: 0.9984\n",
      "Epoch 17/30\n",
      "60000/60000 [==============================] - 59s 982us/step - loss: 0.0045 - acc: 0.99864s - lo\n",
      "Epoch 18/30\n",
      "60000/60000 [==============================] - 59s 982us/step - loss: 0.0044 - acc: 0.9986\n",
      "Epoch 19/30\n",
      "60000/60000 [==============================] - 59s 980us/step - loss: 0.0041 - acc: 0.9987\n",
      "Epoch 20/30\n",
      "60000/60000 [==============================] - 69s 1ms/step - loss: 0.0039 - acc: 0.9987\n",
      "Epoch 21/30\n",
      "60000/60000 [==============================] - 65s 1ms/step - loss: 0.0036 - acc: 0.9988\n",
      "Epoch 22/30\n",
      "60000/60000 [==============================] - 64s 1ms/step - loss: 0.0035 - acc: 0.9989\n",
      "Epoch 23/30\n",
      "60000/60000 [==============================] - 59s 982us/step - loss: 0.0031 - acc: 0.9990\n",
      "Epoch 24/30\n",
      "60000/60000 [==============================] - 59s 984us/step - loss: 0.0030 - acc: 0.9991\n",
      "Epoch 25/30\n",
      "60000/60000 [==============================] - 60s 996us/step - loss: 0.0029 - acc: 0.9991\n",
      "Epoch 26/30\n",
      "60000/60000 [==============================] - 59s 990us/step - loss: 0.0028 - acc: 0.99912s - loss: 0.0028 -\n",
      "Epoch 27/30\n",
      "60000/60000 [==============================] - 59s 986us/step - loss: 0.0025 - acc: 0.9993\n",
      "Epoch 28/30\n",
      "60000/60000 [==============================] - 59s 986us/step - loss: 0.0024 - acc: 0.9993\n",
      "Epoch 29/30\n",
      "60000/60000 [==============================] - 59s 986us/step - loss: 0.0024 - acc: 0.9993\n",
      "Epoch 30/30\n",
      "60000/60000 [==============================] - 59s 989us/step - loss: 0.0022 - acc: 0.9994\n",
      "_________________________________________________________________\n",
      "Layer (type)                 Output Shape              Param #   \n",
      "=================================================================\n",
      "conv2d_6 (Conv2D)            (None, 28, 28, 4)         104       \n",
      "_________________________________________________________________\n",
      "activation_6 (Activation)    (None, 28, 28, 4)         0         \n",
      "_________________________________________________________________\n",
      "max_pooling2d_4 (MaxPooling2 (None, 14, 14, 4)         0         \n",
      "_________________________________________________________________\n",
      "conv2d_7 (Conv2D)            (None, 14, 14, 8)         808       \n",
      "_________________________________________________________________\n",
      "activation_7 (Activation)    (None, 14, 14, 8)         0         \n",
      "_________________________________________________________________\n",
      "max_pooling2d_5 (MaxPooling2 (None, 7, 7, 8)           0         \n",
      "_________________________________________________________________\n",
      "conv2d_8 (Conv2D)            (None, 7, 7, 16)          3216      \n",
      "_________________________________________________________________\n",
      "activation_8 (Activation)    (None, 7, 7, 16)          0         \n",
      "_________________________________________________________________\n",
      "max_pooling2d_6 (MaxPooling2 (None, 3, 3, 16)          0         \n",
      "_________________________________________________________________\n",
      "flatten_2 (Flatten)          (None, 144)               0         \n",
      "_________________________________________________________________\n",
      "dense_3 (Dense)              (None, 20)                2900      \n",
      "_________________________________________________________________\n",
      "activation_9 (Activation)    (None, 20)                0         \n",
      "_________________________________________________________________\n",
      "dense_4 (Dense)              (None, 10)                210       \n",
      "_________________________________________________________________\n",
      "activation_10 (Activation)   (None, 10)                0         \n",
      "=================================================================\n",
      "Total params: 7,238\n",
      "Trainable params: 7,238\n",
      "Non-trainable params: 0\n",
      "_________________________________________________________________\n"
     ]
    }
   ],
   "source": [
    "model.compile(loss='binary_crossentropy', optimizer=Adam(), metrics=['accuracy'])\n",
    "model_fit = model.fit(x_train, y_train, batch_size=200, epochs=30)\n",
    "model.summary()"
   ]
  },
  {
   "cell_type": "code",
   "execution_count": 9,
   "metadata": {},
   "outputs": [
    {
     "name": "stdout",
     "output_type": "stream",
     "text": [
      "10000/10000 [==============================] - 7s 692us/step\n",
      "loss : 0.006873208377323317\n",
      "準確率 : 0.9978099962234497\n"
     ]
    }
   ],
   "source": [
    "score = model.evaluate(x_test,y_test)\n",
    "print(\"loss :\",score[0])\n",
    "print(\"準確率 :\",score[1])"
   ]
  },
  {
   "cell_type": "code",
   "execution_count": 10,
   "metadata": {},
   "outputs": [
    {
     "data": {
      "image/png": "[encoded data removed]",
      "text/plain": [
       "<matplotlib.figure.Figure at 0x56a43d4828>"
      ]
     },
     "metadata": {},
     "output_type": "display_data"
    }
   ],
   "source": [
    "plt.plot(model_fit.history['acc'])\n",
    "plt.title('model training accuracy')\n",
    "plt.ylabel('accuracy')\n",
    "plt.xlabel('epoch')\n",
    "\n",
    "plt.show()"
   ]
  },
  {
   "cell_type": "code",
   "execution_count": null,
   "metadata": {
    "collapsed": true
   },
   "outputs": [],
   "source": []
  }
 ],
 "metadata": {
  "kernelspec": {
   "display_name": "Python 3",
   "language": "python",
   "name": "python3"
  },
  "language_info": {
   "codemirror_mode": {
    "name": "ipython",
    "version": 3
   },
   "file_extension": ".py",
   "mimetype": "text/x-python",
   "name": "python",
   "nbconvert_exporter": "python",
   "pygments_lexer": "ipython3",
   "version": "3.6.1"
  }
 },
 "nbformat": 4,
 "nbformat_minor": 2
}
