{
 "cells": [
  {
   "cell_type": "code",
   "execution_count": 9,
   "metadata": {},
   "outputs": [],
   "source": [
    "%matplotlib inline\n",
    "\n",
    "import numpy as np\n",
    "import matplotlib.pyplot as plt\n",
    "from keras.datasets import mnist\n",
    "from keras.utils import np_utils\n",
    "from keras.models import Sequential\n",
    "from keras.layers import Dense, Activation\n",
    "from keras.optimizers import SGD"
   ]
  },
  {
   "cell_type": "code",
   "execution_count": 40,
   "metadata": {},
   "outputs": [],
   "source": [
    "(x_train, y_train), (x_test, y_test) = mnist.load_data()\n",
    "y_train = np_utils.to_categorical(y_train, 10)\n",
    "y_test = np_utils.to_categorical(y_test, 10)"
   ]
  },
  {
   "cell_type": "code",
   "execution_count": 41,
   "metadata": {},
   "outputs": [],
   "source": [
    "model = Sequential()"
   ]
  },
  {
   "cell_type": "markdown",
   "metadata": {},
   "source": [
    "reshape&正規化"
   ]
  },
  {
   "cell_type": "code",
   "execution_count": 42,
   "metadata": {},
   "outputs": [],
   "source": [
    "x_train = x_train.reshape(60000, 784)\n",
    "x_test = x_test.reshape(10000, 784)\n",
    "x_train = (x_train - x_train.min())/(x_train.max() - x_train.min())\n",
    "x_test = (x_test - x_test.min())/(x_test.max() - x_test.min())"
   ]
  },
  {
   "cell_type": "code",
   "execution_count": 48,
   "metadata": {},
   "outputs": [],
   "source": [
    "model.add(Dense(units=100, input_dim=784, activation='selu'))\n",
    "model.add(Dense(units=80, activation='selu'))\n",
    "model.add(Dense(units=60, activation='selu'))\n",
    "model.add(Dense(units=40, activation='selu'))\n",
    "model.add(Dense(units=10, activation='softmax'))"
   ]
  },
  {
   "cell_type": "markdown",
   "metadata": {},
   "source": [
    "原本運用mse準確率一直都在7成，於是去找別種loss function"
   ]
  },
  {
   "cell_type": "code",
   "execution_count": 50,
   "metadata": {},
   "outputs": [
    {
     "name": "stdout",
     "output_type": "stream",
     "text": [
      "Epoch 1/30\n",
      "60000/60000 [==============================] - 18s 302us/step - loss: 0.3603 - acc: 0.9000\n",
      "Epoch 2/30\n",
      "60000/60000 [==============================] - 16s 267us/step - loss: 0.3602 - acc: 0.9000\n",
      "Epoch 3/30\n",
      "60000/60000 [==============================] - 17s 283us/step - loss: 0.3602 - acc: 0.90006s - loss: 0. \n",
      "Epoch 4/30\n",
      "60000/60000 [==============================] - 16s 264us/step - loss: 0.3601 - acc: 0.90004s - loss: 0.3601 - ETA: 3s - loss: 0 - ETA\n",
      "Epoch 5/30\n",
      "60000/60000 [==============================] - 16s 274us/step - loss: 0.3601 - acc: 0.90009s - loss: 0\n",
      "Epoch 6/30\n",
      "60000/60000 [==============================] - 16s 273us/step - loss: 0.3600 - acc: 0.90006s - ETA: 4s -\n",
      "Epoch 7/30\n",
      "60000/60000 [==============================] - 17s 282us/step - loss: 0.3600 - acc: 0.9000 ETA:  - ETA\n",
      "Epoch 8/30\n",
      "60000/60000 [==============================] - 17s 287us/step - loss: 0.3600 - acc: 0.9000 0s - loss: 0.3600 - acc:\n",
      "Epoch 9/30\n",
      "60000/60000 [==============================] - 15s 253us/step - loss: 0.3599 - acc: 0.9000\n",
      "Epoch 10/30\n",
      "60000/60000 [==============================] - 16s 267us/step - loss: 0.3599 - acc: 0.9000\n",
      "Epoch 11/30\n",
      "60000/60000 [==============================] - 17s 282us/step - loss: 0.3598 - acc: 0.90007s - loss: 0.3602 - ETA: 6s - los - ETA: 2s - loss - ETA: 0s - loss: 0.3598 - ac\n",
      "Epoch 12/30\n",
      "60000/60000 [==============================] - 17s 290us/step - loss: 0.3598 - acc: 0.9000TA: 3s - loss: 0.3600 - acc: 0.900 - ETA: 3s - loss: 0.3600 - a - ETA: 2s - loss: 0.3599  - ETA: \n",
      "Epoch 13/30\n",
      "60000/60000 [==============================] - 18s 301us/step - loss: 0.3597 - acc: 0.9000\n",
      "Epoch 14/30\n",
      "60000/60000 [==============================] - 18s 303us/step - loss: 0.3597 - acc: 0.9000\n",
      "Epoch 15/30\n",
      "60000/60000 [==============================] - 17s 291us/step - loss: 0.3596 - acc: 0.9000\n",
      "Epoch 16/30\n",
      "60000/60000 [==============================] - 17s 284us/step - loss: 0.3596 - acc: 0.90002s - loss: 0.3596 - acc: 0.9 - \n",
      "Epoch 17/30\n",
      "60000/60000 [==============================] - 17s 278us/step - loss: 0.3596 - acc: 0.9000\n",
      "Epoch 18/30\n",
      "60000/60000 [==============================] - 17s 286us/step - loss: 0.3595 - acc: 0.9000\n",
      "Epoch 19/30\n",
      "60000/60000 [==============================] - 17s 281us/step - loss: 0.3595 - acc: 0.90001s \n",
      "Epoch 20/30\n",
      "60000/60000 [==============================] - ETA: 0s - loss: 0.3594 - acc: 0.9000- ETA: 0s - loss: 0.3594 - acc: 0.90 - 16s 266us/step - loss: 0.3594 - acc: 0.9000\n",
      "Epoch 21/30\n",
      "60000/60000 [==============================] - 15s 242us/step - loss: 0.3594 - acc: 0.90003s - loss: 0.3 - ETA: 2s - loss: 0.3593 - acc: 0.90 - ETA: 2s - loss: 0.3 - ETA: 1s - los\n",
      "Epoch 22/30\n",
      "60000/60000 [==============================] - 17s 285us/step - loss: 0.3593 - acc: 0.9000\n",
      "Epoch 23/30\n",
      "60000/60000 [==============================] - 13s 217us/step - loss: 0.3593 - acc: 0.9000\n",
      "Epoch 24/30\n",
      "60000/60000 [==============================] - 18s 294us/step - loss: 0.3593 - acc: 0.9000\n",
      "Epoch 25/30\n",
      "60000/60000 [==============================] - 16s 267us/step - loss: 0.3592 - acc: 0.9000\n",
      "Epoch 26/30\n",
      "60000/60000 [==============================] - 18s 306us/step - loss: 0.3592 - acc: 0.90006s - loss: 0.35 - ETA: 5s - loss: 0.36 - ETA: 4s - loss\n",
      "Epoch 27/30\n",
      "60000/60000 [==============================] - 22s 368us/step - loss: 0.3591 - acc: 0.9000\n",
      "Epoch 28/30\n",
      "60000/60000 [==============================] - 23s 383us/step - loss: 0.3591 - acc: 0.90003s - loss: 0.359 - ETA: 2\n",
      "Epoch 29/30\n",
      "60000/60000 [==============================] - 20s 326us/step - loss: 0.3590 - acc: 0.9000\n",
      "Epoch 30/30\n",
      "60000/60000 [==============================] - 14s 229us/step - loss: 0.3590 - acc: 0.9000\n",
      "_________________________________________________________________\n",
      "Layer (type)                 Output Shape              Param #   \n",
      "=================================================================\n",
      "dense_45 (Dense)             (None, 100)               78500     \n",
      "_________________________________________________________________\n",
      "dense_46 (Dense)             (None, 80)                8080      \n",
      "_________________________________________________________________\n",
      "dense_47 (Dense)             (None, 60)                4860      \n",
      "_________________________________________________________________\n",
      "dense_48 (Dense)             (None, 40)                2440      \n",
      "_________________________________________________________________\n",
      "dense_49 (Dense)             (None, 10)                410       \n",
      "_________________________________________________________________\n",
      "dense_50 (Dense)             (None, 100)               1100      \n",
      "_________________________________________________________________\n",
      "dense_51 (Dense)             (None, 80)                8080      \n",
      "_________________________________________________________________\n",
      "dense_52 (Dense)             (None, 60)                4860      \n",
      "_________________________________________________________________\n",
      "dense_53 (Dense)             (None, 40)                2440      \n",
      "_________________________________________________________________\n",
      "dense_54 (Dense)             (None, 10)                410       \n",
      "=================================================================\n",
      "Total params: 111,180\n",
      "Trainable params: 111,180\n",
      "Non-trainable params: 0\n",
      "_________________________________________________________________\n"
     ]
    }
   ],
   "source": [
    "model.compile(loss='binary_crossentropy', optimizer=SGD(lr=0.00001), metrics=['accuracy'])\n",
    "model.fit(x_train, y_train, batch_size=200, epochs=30)\n",
    "model.summary()"
   ]
  },
  {
   "cell_type": "markdown",
   "metadata": {},
   "source": [
    "運用binary_crossentropy，準確率就直接上9成!"
   ]
  },
  {
   "cell_type": "code",
   "execution_count": 51,
   "metadata": {},
   "outputs": [
    {
     "name": "stdout",
     "output_type": "stream",
     "text": [
      "10000/10000 [==============================] - 3s 324us/step\n",
      "test準確率: 0.9000000356674195\n"
     ]
    }
   ],
   "source": [
    "test_result = model.evaluate(x_test, y_test)\n",
    "print('test準確率:', test_result[1])"
   ]
  },
  {
   "cell_type": "code",
   "execution_count": null,
   "metadata": {},
   "outputs": [],
   "source": []
  }
 ],
 "metadata": {
  "kernelspec": {
   "display_name": "Python 3",
   "language": "python",
   "name": "python3"
  },
  "language_info": {
   "codemirror_mode": {
    "name": "ipython",
    "version": 3
   },
   "file_extension": ".py",
   "mimetype": "text/x-python",
   "name": "python",
   "nbconvert_exporter": "python",
   "pygments_lexer": "ipython3",
   "version": "3.6.4"
  }
 },
 "nbformat": 4,
 "nbformat_minor": 2
}
