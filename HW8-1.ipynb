{
 "cells": [
  {
   "cell_type": "code",
   "execution_count": 5,
   "metadata": {},
   "outputs": [
    {
     "name": "stdout",
     "output_type": "stream",
     "text": [
      "env: KERAS_BACKEND=tensorflow\n"
     ]
    }
   ],
   "source": [
    "%env KERAS_BACKEND=tensorflow"
   ]
  },
  {
   "cell_type": "code",
   "execution_count": 9,
   "metadata": {},
   "outputs": [],
   "source": [
    "%matplotlib inline\n",
    "import numpy as np\n",
    "import matplotlib.pyplot as plt\n",
    "import pandas as pd\n",
    "from keras.models import Sequential\n",
    "from keras.layers import Dense, Activation\n",
    "from keras.datasets import mnist\n",
    "from keras.utils import np_utils\n",
    "from keras.layers import Input\n",
    "from keras.layers import concatenate\n",
    "from keras.models import Model\n",
    "from keras.optimizers import Adam"
   ]
  },
  {
   "cell_type": "code",
   "execution_count": 10,
   "metadata": {},
   "outputs": [],
   "source": [
    "(x_train, y_train), (x_test, y_test) = mnist.load_data()\n",
    "x_train = x_train.reshape(60000,784)\n",
    "x_test = x_test.reshape(10000,784 )\n",
    "\n",
    "y_train = np_utils.to_categorical(y_train,10)\n",
    "y_test = np_utils.to_categorical(y_test,10)\n",
    "\n",
    "x_train = (x_train - x_train.min())/(x_train.max() - x_train.min())\n",
    "x_test = (x_test - x_test.min())/(x_test.max() - x_test.min())"
   ]
  },
  {
   "cell_type": "code",
   "execution_count": 11,
   "metadata": {},
   "outputs": [
    {
     "name": "stdout",
     "output_type": "stream",
     "text": [
      "__________________________________________________________________________________________________\n",
      "Layer (type)                    Output Shape         Param #     Connected to                     \n",
      "==================================================================================================\n",
      "input_2 (InputLayer)            (None, 784)          0                                            \n",
      "__________________________________________________________________________________________________\n",
      "dense_10 (Dense)                (None, 100)          78500       input_2[0][0]                    \n",
      "__________________________________________________________________________________________________\n",
      "dense_11 (Dense)                (None, 80)           8080        dense_10[0][0]                   \n",
      "__________________________________________________________________________________________________\n",
      "dense_12 (Dense)                (None, 60)           6060        dense_10[0][0]                   \n",
      "__________________________________________________________________________________________________\n",
      "dense_13 (Dense)                (None, 40)           3240        dense_11[0][0]                   \n",
      "__________________________________________________________________________________________________\n",
      "dense_14 (Dense)                (None, 10)           810         dense_11[0][0]                   \n",
      "__________________________________________________________________________________________________\n",
      "dense_15 (Dense)                (None, 10)           610         dense_12[0][0]                   \n",
      "__________________________________________________________________________________________________\n",
      "dense_16 (Dense)                (None, 10)           610         dense_12[0][0]                   \n",
      "__________________________________________________________________________________________________\n",
      "concatenate_2 (Concatenate)     (None, 70)           0           dense_13[0][0]                   \n",
      "                                                                 dense_14[0][0]                   \n",
      "                                                                 dense_15[0][0]                   \n",
      "                                                                 dense_16[0][0]                   \n",
      "__________________________________________________________________________________________________\n",
      "dense_17 (Dense)                (None, 100)          7100        concatenate_2[0][0]              \n",
      "__________________________________________________________________________________________________\n",
      "dense_18 (Dense)                (None, 10)           1010        dense_17[0][0]                   \n",
      "==================================================================================================\n",
      "Total params: 106,020\n",
      "Trainable params: 106,020\n",
      "Non-trainable params: 0\n",
      "__________________________________________________________________________________________________\n"
     ]
    }
   ],
   "source": [
    "f1 = Dense(100, activation='selu')\n",
    "f2 = Dense(80, activation='selu')\n",
    "f3 = Dense(60, activation='selu')\n",
    "f4 = Dense(40, activation='relu')\n",
    "f5 = Dense(10, activation='softmax')\n",
    "f6 = (Dense(10, activation=\"relu\"))\n",
    "f7 = (Dense(10, activation=\"sigmoid\"))\n",
    "f8 = (Dense(100, activation=\"relu\"))\n",
    "f9 = (Dense(10, activation=\"softmax\"))\n",
    "x = Input(shape=(784,))\n",
    "\n",
    "h1 = f1(x)\n",
    "h2 = f2(h1)\n",
    "h3 = f3(h1)\n",
    "h4 = f4(h2)\n",
    "h5 = f5(h2)\n",
    "h6 = f6(h3)\n",
    "h7 = f7(h3)\n",
    "\n",
    "h8 = f8(concatenate([h4, h5, h6, h7]))\n",
    "y = f9(h8)\n",
    "\n",
    "model = Model(x, y)\n",
    "model.summary()"
   ]
  },
  {
   "cell_type": "code",
   "execution_count": 17,
   "metadata": {},
   "outputs": [
    {
     "name": "stdout",
     "output_type": "stream",
     "text": [
      "Epoch 1/30\n",
      "60000/60000 [==============================] - 20s 338us/step - loss: 0.0022 - acc: 0.9992\n",
      "Epoch 2/30\n",
      "60000/60000 [==============================] - 16s 268us/step - loss: 0.0021 - acc: 0.9993\n",
      "Epoch 3/30\n",
      "60000/60000 [==============================] - 18s 307us/step - loss: 0.0022 - acc: 0.9993\n",
      "Epoch 4/30\n",
      "60000/60000 [==============================] - 18s 301us/step - loss: 9.9135e-04 - acc: 0.9997 loss: 0.0010 - acc: 0. - ETA: 0s - loss: 0.0010 - a\n",
      "Epoch 5/30\n",
      "60000/60000 [==============================] - 17s 285us/step - loss: 0.0015 - acc: 0.9995\n",
      "Epoch 6/30\n",
      "60000/60000 [==============================] - 17s 287us/step - loss: 0.0023 - acc: 0.99928s - loss: 0.0017 - acc:  - ETA\n",
      "Epoch 7/30\n",
      "60000/60000 [==============================] - 17s 289us/step - loss: 0.0016 - acc: 0.9995\n",
      "Epoch 8/30\n",
      "60000/60000 [==============================] - 17s 283us/step - loss: 0.0017 - acc: 0.9994\n",
      "Epoch 9/30\n",
      "60000/60000 [==============================] - 17s 282us/step - loss: 0.0011 - acc: 0.9997\n",
      "Epoch 10/30\n",
      "60000/60000 [==============================] - 18s 305us/step - loss: 0.0018 - acc: 0.99950s - loss: 0.0017 - acc:\n",
      "Epoch 11/30\n",
      "60000/60000 [==============================] - 17s 289us/step - loss: 0.0020 - acc: 0.9993\n",
      "Epoch 12/30\n",
      "60000/60000 [==============================] - 18s 293us/step - loss: 0.0015 - acc: 0.99955s - l\n",
      "Epoch 13/30\n",
      "60000/60000 [==============================] - 18s 297us/step - loss: 0.0014 - acc: 0.9995\n",
      "Epoch 14/30\n",
      "60000/60000 [==============================] - 18s 303us/step - loss: 0.0012 - acc: 0.9996\n",
      "Epoch 15/30\n",
      "60000/60000 [==============================] - 18s 295us/step - loss: 0.0014 - acc: 0.9995\n",
      "Epoch 16/30\n",
      "60000/60000 [==============================] - 17s 284us/step - loss: 0.0019 - acc: 0.9994\n",
      "Epoch 17/30\n",
      "60000/60000 [==============================] - 17s 291us/step - loss: 6.5096e-04 - acc: 0.9998\n",
      "Epoch 18/30\n",
      "60000/60000 [==============================] - 17s 291us/step - loss: 0.0014 - acc: 0.99960s - loss: 0.0013 - acc: 0.99\n",
      "Epoch 19/30\n",
      "60000/60000 [==============================] - 17s 285us/step - loss: 0.0030 - acc: 0.99912s - lo\n",
      "Epoch 20/30\n",
      "60000/60000 [==============================] - 18s 304us/step - loss: 0.0016 - acc: 0.99959s - loss: 0.0019 - acc: - ETA: 8s\n",
      "Epoch 21/30\n",
      "60000/60000 [==============================] - 19s 312us/step - loss: 7.4753e-04 - acc: 0.99980s - loss: 7.3293e-04 - acc\n",
      "Epoch 22/30\n",
      "60000/60000 [==============================] - 16s 268us/step - loss: 1.3285e-04 - acc: 1.00004s - loss: 1.5722e-04 - ETA: 3s -  - ETA: 1s - loss: 1.3901e-0\n",
      "Epoch 23/30\n",
      "60000/60000 [==============================] - 15s 248us/step - loss: 6.1643e-05 - acc: 1.0000\n",
      "Epoch 24/30\n",
      "60000/60000 [==============================] - 14s 233us/step - loss: 6.7828e-05 - acc: 1.0000\n",
      "Epoch 25/30\n",
      "60000/60000 [==============================] - 15s 251us/step - loss: 0.0047 - acc: 0.9987\n",
      "Epoch 26/30\n",
      "60000/60000 [==============================] - 14s 242us/step - loss: 0.0017 - acc: 0.9994\n",
      "Epoch 27/30\n",
      "60000/60000 [==============================] - 15s 250us/step - loss: 0.0014 - acc: 0.99951s - loss: 0.001\n",
      "Epoch 28/30\n",
      "60000/60000 [==============================] - 16s 265us/step - loss: 9.9520e-04 - acc: 0.9997\n",
      "Epoch 29/30\n",
      "60000/60000 [==============================] - 16s 259us/step - loss: 5.0488e-04 - acc: 0.9998\n",
      "Epoch 30/30\n",
      "60000/60000 [==============================] - 15s 249us/step - loss: 6.1351e-04 - acc: 0.99981s - loss: 6.2087e-04 - acc: 0. - ETA: 1s - loss: 6.1507e-04 -  - ETA: 0s - loss: 6.1487e-04 - a\n",
      "__________________________________________________________________________________________________\n",
      "Layer (type)                    Output Shape         Param #     Connected to                     \n",
      "==================================================================================================\n",
      "input_2 (InputLayer)            (None, 784)          0                                            \n",
      "__________________________________________________________________________________________________\n",
      "dense_10 (Dense)                (None, 100)          78500       input_2[0][0]                    \n",
      "__________________________________________________________________________________________________\n",
      "dense_11 (Dense)                (None, 80)           8080        dense_10[0][0]                   \n",
      "__________________________________________________________________________________________________\n",
      "dense_12 (Dense)                (None, 60)           6060        dense_10[0][0]                   \n",
      "__________________________________________________________________________________________________\n",
      "dense_13 (Dense)                (None, 40)           3240        dense_11[0][0]                   \n",
      "__________________________________________________________________________________________________\n",
      "dense_14 (Dense)                (None, 10)           810         dense_11[0][0]                   \n",
      "__________________________________________________________________________________________________\n",
      "dense_15 (Dense)                (None, 10)           610         dense_12[0][0]                   \n",
      "__________________________________________________________________________________________________\n",
      "dense_16 (Dense)                (None, 10)           610         dense_12[0][0]                   \n",
      "__________________________________________________________________________________________________\n",
      "concatenate_2 (Concatenate)     (None, 70)           0           dense_13[0][0]                   \n",
      "                                                                 dense_14[0][0]                   \n",
      "                                                                 dense_15[0][0]                   \n",
      "                                                                 dense_16[0][0]                   \n",
      "__________________________________________________________________________________________________\n",
      "dense_17 (Dense)                (None, 100)          7100        concatenate_2[0][0]              \n",
      "__________________________________________________________________________________________________\n",
      "dense_18 (Dense)                (None, 10)           1010        dense_17[0][0]                   \n",
      "==================================================================================================\n",
      "Total params: 106,020\n",
      "Trainable params: 106,020\n",
      "Non-trainable params: 0\n",
      "__________________________________________________________________________________________________\n"
     ]
    }
   ],
   "source": [
    "model.compile(loss='binary_crossentropy', optimizer=Adam(), metrics=['accuracy'])\n",
    "model_fit = model.fit(x_train, y_train, batch_size=200, epochs=30)\n",
    "model.summary()"
   ]
  },
  {
   "cell_type": "code",
   "execution_count": 20,
   "metadata": {},
   "outputs": [
    {
     "name": "stdout",
     "output_type": "stream",
     "text": [
      "10000/10000 [==============================] - 2s 236us/step\n",
      "loss : 0.024953941753496543\n",
      "準確率 : 0.9957499975204468\n"
     ]
    }
   ],
   "source": [
    "score = model.evaluate(x_test,y_test)\n",
    "print(\"loss :\",score[0])\n",
    "print(\"準確率 :\",score[1])"
   ]
  },
  {
   "cell_type": "code",
   "execution_count": 28,
   "metadata": {},
   "outputs": [
    {
     "data": {
      "image/png": "[encoded data removed]",
      "text/plain": [
       "<matplotlib.figure.Figure at 0x17fbf710>"
      ]
     },
     "metadata": {},
     "output_type": "display_data"
    }
   ],
   "source": [
    "plt.plot(model_fit.history['acc'])\n",
    "plt.title('model training accuracy')\n",
    "plt.ylabel('accuracy')\n",
    "plt.xlabel('epoch')\n",
    "\n",
    "plt.show()"
   ]
  },
  {
   "cell_type": "code",
   "execution_count": null,
   "metadata": {},
   "outputs": [],
   "source": []
  }
 ],
 "metadata": {
  "kernelspec": {
   "display_name": "Python 3",
   "language": "python",
   "name": "python3"
  },
  "language_info": {
   "codemirror_mode": {
    "name": "ipython",
    "version": 3
   },
   "file_extension": ".py",
   "mimetype": "text/x-python",
   "name": "python",
   "nbconvert_exporter": "python",
   "pygments_lexer": "ipython3",
   "version": "3.6.4"
  }
 },
 "nbformat": 4,
 "nbformat_minor": 2
}
